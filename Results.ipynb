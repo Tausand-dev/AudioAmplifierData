{
 "cells": [
  {
   "cell_type": "code",
   "execution_count": 1,
   "metadata": {
    "collapsed": true
   },
   "outputs": [],
   "source": [
    "import numpy as np\n",
    "import matplotlib.pyplot as plt\n",
    "from matplotlib.ticker import EngFormatter"
   ]
  },
  {
   "cell_type": "code",
   "execution_count": 2,
   "metadata": {
    "collapsed": true
   },
   "outputs": [],
   "source": [
    "def calcRelative(data):\n",
    "    n = (data.shape[1] - 1)//2\n",
    "    rel = np.zeros((data.shape[0], n))\n",
    "    for i in range(n):\n",
    "        vin = data[:, 2*i + 1]\n",
    "        vout = data[:, 2*i + 2]\n",
    "        rel[:, i] = vout/vin\n",
    "\n",
    "    return rel\n",
    "\n",
    "def plotData(freq, data, style=\"-o\", xlabel = \"Frequency (Hz)\", ylabel = \"$V_{out}/V_{in}$\"):\n",
    "    fig, ax = plt.subplots()\n",
    "\n",
    "    for i in range(data.shape[1]):\n",
    "        plt.plot(freq, data[:, i], style, label=\"$V_{%d}$\"%i)\n",
    "\n",
    "    ax.set_xscale(\"log\")\n",
    "    ax.set_xlabel(xlabel)\n",
    "    ax.set_ylabel(ylabel)\n",
    "\n",
    "    ax.xaxis.set_major_formatter(EngFormatter())\n",
    "    ax.legend()\n",
    "\n",
    "    return fig, ax\n",
    "\n",
    "def loadData(name):\n",
    "    return np.genfromtxt(name, delimiter=\",\", skip_header=2, usecols=range(0,7))"
   ]
  },
  {
   "cell_type": "markdown",
   "metadata": {},
   "source": [
    "# Audio Amplifier 1"
   ]
  },
  {
   "cell_type": "code",
   "execution_count": 4,
   "metadata": {
    "collapsed": true
   },
   "outputs": [],
   "source": [
    "amp1 = loadData(\"raw/Amp1.csv\")\n",
    "\n",
    "\n",
    "rel1 = calcRelative(amp1)\n",
    "\n",
    "fig, ax = plotData(amp1[:, 0], rel1)\n",
    "fig.savefig(\"Relative_plot_amp1.pdf\")\n",
    "plt.show()"
   ]
  },
  {
   "cell_type": "markdown",
   "metadata": {},
   "source": [
    "# Audio Amplifier 2"
   ]
  },
  {
   "cell_type": "code",
   "execution_count": 5,
   "metadata": {
    "collapsed": true
   },
   "outputs": [],
   "source": [
    "amp2 = loadData(\"raw/Amp2.csv\")\n",
    "\n",
    "rel2 = calcRelative(amp2)\n",
    "\n",
    "fig, ax = plotData(amp2[:, 0], rel2)\n",
    "fig.savefig(\"Relative_plot_amp2.pdf\")\n",
    "plt.show()"
   ]
  },
  {
   "cell_type": "markdown",
   "metadata": {},
   "source": [
    "# Comparison"
   ]
  },
  {
   "cell_type": "code",
   "execution_count": 6,
   "metadata": {
    "collapsed": true
   },
   "outputs": [],
   "source": [
    "both = np.zeros((amp1.shape[0], 2))\n",
    "both[:, 0] = rel1[:, 1]\n",
    "both[:, 1] = rel2[:, 1]\n",
    "\n",
    "fig, ax = plotData(amp1[:, 0], both)\n",
    "ax.legend([\"Amp1\", \"Amp2\"])\n",
    "fig.savefig(\"Both_amps_plot.pdf\")\n",
    "plt.show()"
   ]
  },
  {
   "cell_type": "code",
   "execution_count": null,
   "metadata": {
    "collapsed": true
   },
   "outputs": [],
   "source": []
  }
 ],
 "metadata": {
  "kernelspec": {
   "display_name": "Python 3",
   "language": "python",
   "name": "python3"
  },
  "language_info": {
   "codemirror_mode": {
    "name": "ipython",
    "version": 3
   },
   "file_extension": ".py",
   "mimetype": "text/x-python",
   "name": "python",
   "nbconvert_exporter": "python",
   "pygments_lexer": "ipython3",
   "version": "3.4.4"
  }
 },
 "nbformat": 4,
 "nbformat_minor": 2
}
